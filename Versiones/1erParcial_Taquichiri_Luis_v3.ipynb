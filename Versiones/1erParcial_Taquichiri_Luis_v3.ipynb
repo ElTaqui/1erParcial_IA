{
  "nbformat": 4,
  "nbformat_minor": 0,
  "metadata": {
    "colab": {
      "provenance": [],
      "collapsed_sections": [
        "bY748Isk_CKA",
        "ax8JlftyAG2-",
        "jHFPg85sbPDm",
        "4brCE064eGTy"
      ],
      "authorship_tag": "ABX9TyPXJQrUkGonzZU6dHg58e0M",
      "include_colab_link": true
    },
    "kernelspec": {
      "name": "python3",
      "display_name": "Python 3"
    },
    "language_info": {
      "name": "python"
    }
  },
  "cells": [
    {
      "cell_type": "markdown",
      "metadata": {
        "id": "view-in-github",
        "colab_type": "text"
      },
      "source": [
        "<a href=\"https://colab.research.google.com/github/ElTaqui/1erParcial_IA/blob/main/Versiones/1erParcial_Taquichiri_Luis_v3.ipynb\" target=\"_parent\"><img src=\"https://colab.research.google.com/assets/colab-badge.svg\" alt=\"Open In Colab\"/></a>"
      ]
    },
    {
      "cell_type": "markdown",
      "source": [
        "#1er Parcial COM300 IA\n",
        "Taquichiri Huarita Luis Alexander"
      ],
      "metadata": {
        "id": "GmwYza8Q9VXx"
      }
    },
    {
      "cell_type": "markdown",
      "source": [
        "####Importación de bibliotecas"
      ],
      "metadata": {
        "id": "bY748Isk_CKA"
      }
    },
    {
      "cell_type": "code",
      "execution_count": 66,
      "metadata": {
        "id": "5GOq1ihzXXMc"
      },
      "outputs": [],
      "source": [
        "#Para interactuar con el sistema operativo.\n",
        "import os\n",
        "#Para la manipulación y análisis de datos tabulares (DataFrames).\n",
        "import pandas as pd\n",
        "#Para realizar operaciones matemáticas y manipulación de arreglos/matrices.\n",
        "import numpy as np\n",
        "#Para la creación de gráficos y visualización de datos.\n",
        "from matplotlib import pyplot\n",
        "import matplotlib.pyplot as plt\n",
        "\n",
        "%matplotlib inline"
      ]
    },
    {
      "cell_type": "markdown",
      "source": [
        "Cargar y revisar el data set"
      ],
      "metadata": {
        "id": "w2yPIoJz_7-v"
      }
    },
    {
      "cell_type": "code",
      "source": [
        "from google.colab import drive\n",
        "drive.mount('/content/drive')"
      ],
      "metadata": {
        "colab": {
          "base_uri": "https://localhost:8080/"
        },
        "id": "BF7z4FQD_tEQ",
        "outputId": "d6f686f0-8d44-4d5c-d8b4-e57baae110f5"
      },
      "execution_count": 67,
      "outputs": [
        {
          "output_type": "stream",
          "name": "stdout",
          "text": [
            "Drive already mounted at /content/drive; to attempt to forcibly remount, call drive.mount(\"/content/drive\", force_remount=True).\n"
          ]
        }
      ]
    },
    {
      "cell_type": "code",
      "source": [
        "import pandas as pd\n",
        "data = pd.read_csv('/content/drive/MyDrive/machine learning/datasets/Player_Attributes.csv', delimiter=',', decimal='.')\n",
        "data = data.dropna()\n",
        "data.info()"
      ],
      "metadata": {
        "colab": {
          "base_uri": "https://localhost:8080/"
        },
        "id": "ArI9Vk-hABdR",
        "outputId": "29b4dd64-3b02-4862-9f70-015652809e51"
      },
      "execution_count": 68,
      "outputs": [
        {
          "output_type": "stream",
          "name": "stdout",
          "text": [
            "<class 'pandas.core.frame.DataFrame'>\n",
            "Index: 177037 entries, 0 to 183977\n",
            "Data columns (total 42 columns):\n",
            " #   Column               Non-Null Count   Dtype  \n",
            "---  ------               --------------   -----  \n",
            " 0   id                   177037 non-null  int64  \n",
            " 1   player_fifa_api_id   177037 non-null  int64  \n",
            " 2   player_api_id        177037 non-null  int64  \n",
            " 3   date                 177037 non-null  object \n",
            " 4   overall_rating       177037 non-null  float64\n",
            " 5   potential            177037 non-null  float64\n",
            " 6   preferred_foot       177037 non-null  object \n",
            " 7   attacking_work_rate  177037 non-null  object \n",
            " 8   defensive_work_rate  177037 non-null  object \n",
            " 9   crossing             177037 non-null  float64\n",
            " 10  finishing            177037 non-null  float64\n",
            " 11  heading_accuracy     177037 non-null  float64\n",
            " 12  short_passing        177037 non-null  float64\n",
            " 13  volleys              177037 non-null  float64\n",
            " 14  dribbling            177037 non-null  float64\n",
            " 15  curve                177037 non-null  float64\n",
            " 16  free_kick_accuracy   177037 non-null  float64\n",
            " 17  long_passing         177037 non-null  float64\n",
            " 18  ball_control         177037 non-null  float64\n",
            " 19  acceleration         177037 non-null  float64\n",
            " 20  sprint_speed         177037 non-null  float64\n",
            " 21  agility              177037 non-null  float64\n",
            " 22  reactions            177037 non-null  float64\n",
            " 23  balance              177037 non-null  float64\n",
            " 24  shot_power           177037 non-null  float64\n",
            " 25  jumping              177037 non-null  float64\n",
            " 26  stamina              177037 non-null  float64\n",
            " 27  strength             177037 non-null  float64\n",
            " 28  long_shots           177037 non-null  float64\n",
            " 29  aggression           177037 non-null  float64\n",
            " 30  interceptions        177037 non-null  float64\n",
            " 31  positioning          177037 non-null  float64\n",
            " 32  vision               177037 non-null  float64\n",
            " 33  penalties            177037 non-null  float64\n",
            " 34  marking              177037 non-null  float64\n",
            " 35  standing_tackle      177037 non-null  float64\n",
            " 36  sliding_tackle       177037 non-null  float64\n",
            " 37  gk_diving            177037 non-null  float64\n",
            " 38  gk_handling          177037 non-null  float64\n",
            " 39  gk_kicking           177037 non-null  float64\n",
            " 40  gk_positioning       177037 non-null  float64\n",
            " 41  gk_reflexes          177037 non-null  float64\n",
            "dtypes: float64(35), int64(3), object(4)\n",
            "memory usage: 58.1+ MB\n"
          ]
        }
      ]
    },
    {
      "cell_type": "markdown",
      "source": [
        "####Arreglo del Data set"
      ],
      "metadata": {
        "id": "ax8JlftyAG2-"
      }
    },
    {
      "cell_type": "markdown",
      "source": [
        "Cargar datos"
      ],
      "metadata": {
        "id": "_6bHd0L_BT9j"
      }
    },
    {
      "cell_type": "code",
      "source": [
        "#Cargar los datos en un data set limpio y más fácil de manejar\n",
        "nuevo_data = data.iloc[:20000, [4,5,9,10,11,12,13,14,15,16,17]]\n",
        "#convertir los datos para tener clases dividiendo los jugadores en: muy malos, malos, neutro, buenos y muy buenos (0,1,2,3,4)\n",
        "first = np.zeros(nuevo_data.shape[0])\n",
        "for i in range(nuevo_data.shape[0]):\n",
        "  if nuevo_data.iloc[i,0] <= 20:\n",
        "    first[i] = 0\n",
        "  elif nuevo_data.iloc[i,0] <= 40:\n",
        "    first[i] = 1\n",
        "  elif nuevo_data.iloc[i,0] <= 60:\n",
        "    first[i] = 2\n",
        "  elif nuevo_data.iloc[i,0] <= 80:\n",
        "    first[i] = 3\n",
        "  else:\n",
        "    first[i] = 4\n",
        "#print(nuevo_data.iloc[100:200,0])\n",
        "nuevo_data.iloc[:,0] = first\n",
        "#print(nuevo_data.iloc[100:200,0])"
      ],
      "metadata": {
        "id": "dyNZbiu9AGSr"
      },
      "execution_count": 69,
      "outputs": []
    },
    {
      "cell_type": "code",
      "source": [
        "print(nuevo_data)"
      ],
      "metadata": {
        "colab": {
          "base_uri": "https://localhost:8080/"
        },
        "id": "teXw0ZrjD-94",
        "outputId": "5cc6a122-5e67-4913-c9ef-294510831365"
      },
      "execution_count": 70,
      "outputs": [
        {
          "output_type": "stream",
          "name": "stdout",
          "text": [
            "       overall_rating  potential  crossing  finishing  heading_accuracy  \\\n",
            "0                 3.0       71.0      49.0       44.0              71.0   \n",
            "1                 3.0       71.0      49.0       44.0              71.0   \n",
            "2                 3.0       66.0      49.0       44.0              71.0   \n",
            "3                 3.0       65.0      48.0       43.0              70.0   \n",
            "4                 3.0       65.0      48.0       43.0              70.0   \n",
            "...               ...        ...       ...        ...               ...   \n",
            "20686             3.0       70.0      63.0       55.0              56.0   \n",
            "20687             3.0       69.0      63.0       44.0              56.0   \n",
            "20688             3.0       67.0      63.0       44.0              56.0   \n",
            "20689             3.0       73.0      62.0       72.0              58.0   \n",
            "20690             3.0       73.0      62.0       72.0              58.0   \n",
            "\n",
            "       short_passing  volleys  dribbling  curve  free_kick_accuracy  \\\n",
            "0               61.0     44.0       51.0   45.0                39.0   \n",
            "1               61.0     44.0       51.0   45.0                39.0   \n",
            "2               61.0     44.0       51.0   45.0                39.0   \n",
            "3               60.0     43.0       50.0   44.0                38.0   \n",
            "4               60.0     43.0       50.0   44.0                38.0   \n",
            "...              ...      ...        ...    ...                 ...   \n",
            "20686           66.0     61.0       60.0   76.0                55.0   \n",
            "20687           66.0     61.0       60.0   76.0                44.0   \n",
            "20688           66.0     61.0       60.0   76.0                52.0   \n",
            "20689           77.0     64.0       71.0   73.0                73.0   \n",
            "20690           77.0     64.0       71.0   73.0                73.0   \n",
            "\n",
            "       long_passing  \n",
            "0              64.0  \n",
            "1              64.0  \n",
            "2              64.0  \n",
            "3              63.0  \n",
            "4              63.0  \n",
            "...             ...  \n",
            "20686          65.0  \n",
            "20687          65.0  \n",
            "20688          65.0  \n",
            "20689          73.0  \n",
            "20690          73.0  \n",
            "\n",
            "[20000 rows x 11 columns]\n"
          ]
        }
      ]
    },
    {
      "cell_type": "markdown",
      "source": [
        "Insertar atributos de: carácter, texto y valores booleanos"
      ],
      "metadata": {
        "id": "2FQZ4hgsDwxP"
      }
    },
    {
      "cell_type": "code",
      "source": [
        "def agregarCTB(data):\n",
        "  # Agregar atributos de texto (posición del jugador)\n",
        "  positions = ['Defensor', 'MedioCampista', 'Delantero', 'Portería']\n",
        "  data['Posición'] = np.random.choice(positions, data.shape[0])\n",
        "  # Agregar atributos de caracteres (Grupo: A, B, C, D)\n",
        "  Groups = ['A', 'B', 'C', 'D']\n",
        "  data['Grupo'] = np.random.choice(Groups, data.shape[0])\n",
        "  # Agregar atributos booleanos (¿Es titular?)\n",
        "  data['Es titular?'] = np.random.choice([True, False], data.shape[0])"
      ],
      "metadata": {
        "id": "8K37NJUwD6YU"
      },
      "execution_count": 71,
      "outputs": []
    },
    {
      "cell_type": "code",
      "source": [
        "agregarCTB(nuevo_data)\n",
        "print(nuevo_data)"
      ],
      "metadata": {
        "colab": {
          "base_uri": "https://localhost:8080/"
        },
        "id": "OA3Mu41yIPMj",
        "outputId": "82de8da8-5159-4c8f-9ead-6e4b0c951255"
      },
      "execution_count": 72,
      "outputs": [
        {
          "output_type": "stream",
          "name": "stdout",
          "text": [
            "       overall_rating  potential  crossing  finishing  heading_accuracy  \\\n",
            "0                 3.0       71.0      49.0       44.0              71.0   \n",
            "1                 3.0       71.0      49.0       44.0              71.0   \n",
            "2                 3.0       66.0      49.0       44.0              71.0   \n",
            "3                 3.0       65.0      48.0       43.0              70.0   \n",
            "4                 3.0       65.0      48.0       43.0              70.0   \n",
            "...               ...        ...       ...        ...               ...   \n",
            "20686             3.0       70.0      63.0       55.0              56.0   \n",
            "20687             3.0       69.0      63.0       44.0              56.0   \n",
            "20688             3.0       67.0      63.0       44.0              56.0   \n",
            "20689             3.0       73.0      62.0       72.0              58.0   \n",
            "20690             3.0       73.0      62.0       72.0              58.0   \n",
            "\n",
            "       short_passing  volleys  dribbling  curve  free_kick_accuracy  \\\n",
            "0               61.0     44.0       51.0   45.0                39.0   \n",
            "1               61.0     44.0       51.0   45.0                39.0   \n",
            "2               61.0     44.0       51.0   45.0                39.0   \n",
            "3               60.0     43.0       50.0   44.0                38.0   \n",
            "4               60.0     43.0       50.0   44.0                38.0   \n",
            "...              ...      ...        ...    ...                 ...   \n",
            "20686           66.0     61.0       60.0   76.0                55.0   \n",
            "20687           66.0     61.0       60.0   76.0                44.0   \n",
            "20688           66.0     61.0       60.0   76.0                52.0   \n",
            "20689           77.0     64.0       71.0   73.0                73.0   \n",
            "20690           77.0     64.0       71.0   73.0                73.0   \n",
            "\n",
            "       long_passing       Posición Grupo  Es titular?  \n",
            "0              64.0      Delantero     B        False  \n",
            "1              64.0  MedioCampista     A         True  \n",
            "2              64.0       Defensor     D        False  \n",
            "3              63.0       Defensor     A        False  \n",
            "4              63.0  MedioCampista     C         True  \n",
            "...             ...            ...   ...          ...  \n",
            "20686          65.0      Delantero     C         True  \n",
            "20687          65.0  MedioCampista     A        False  \n",
            "20688          65.0      Delantero     C        False  \n",
            "20689          73.0       Portería     D         True  \n",
            "20690          73.0       Defensor     C        False  \n",
            "\n",
            "[20000 rows x 14 columns]\n"
          ]
        }
      ]
    },
    {
      "cell_type": "markdown",
      "source": [
        "Duplicado de los datos del data set"
      ],
      "metadata": {
        "id": "7pGR4xEAHyIp"
      }
    },
    {
      "cell_type": "code",
      "source": [
        "#como los datos son de jugadores de futbol y no hay forma de hacer una corelación exacta usaré\n",
        "#un numero random para aumentar o restar del valor original haciendo una variación que no afecte mucho\n",
        "#manteniendo las clases y ramdomificando los datos de otro tipo con la función\n",
        "data_duplicado = pd.DataFrame()\n",
        "data_duplicado['overall_rating'] = nuevo_data.iloc[:,0]\n",
        "for j in range(1,11):\n",
        "  temp = []\n",
        "  for i in range(nuevo_data.shape[0]):\n",
        "    temp.append(nuevo_data.iloc[i, j] + np.random.uniform(-3, 3))\n",
        "  data_duplicado[nuevo_data.columns[j]] = temp"
      ],
      "metadata": {
        "id": "Fgahp6q3IYNR"
      },
      "execution_count": 73,
      "outputs": []
    },
    {
      "cell_type": "code",
      "source": [
        "agregarCTB(data_duplicado)\n",
        "print(data_duplicado)"
      ],
      "metadata": {
        "colab": {
          "base_uri": "https://localhost:8080/"
        },
        "id": "fOmq0BXqOpzD",
        "outputId": "1701db47-f719-4c5c-a8ee-82376ca5613a"
      },
      "execution_count": 74,
      "outputs": [
        {
          "output_type": "stream",
          "name": "stdout",
          "text": [
            "       overall_rating  potential   crossing  finishing  heading_accuracy  \\\n",
            "0                 3.0  68.309365  51.564797  45.397084         68.091485   \n",
            "1                 3.0  68.925051  51.453460  45.728965         71.895195   \n",
            "2                 3.0  67.618005  51.486875  41.216051         72.359515   \n",
            "3                 3.0  65.832751  45.824574  42.553016         71.060217   \n",
            "4                 3.0  66.521992  49.168733  41.453908         71.135473   \n",
            "...               ...        ...        ...        ...               ...   \n",
            "20686             3.0  69.264596  63.931389  54.257138         55.277501   \n",
            "20687             3.0  66.397730  64.000212  45.413404         53.128181   \n",
            "20688             3.0  64.629722  61.269432  44.876549         55.864444   \n",
            "20689             3.0  71.406659  59.313266  71.594180         58.299721   \n",
            "20690             3.0  72.722603  60.797619  73.029754         59.193768   \n",
            "\n",
            "       short_passing    volleys  dribbling      curve  free_kick_accuracy  \\\n",
            "0          62.520204  44.710882  48.831316  44.390370           36.738457   \n",
            "1          60.210034  46.751834  48.849239  46.716207           38.892394   \n",
            "2          59.620521  42.743516  53.046147  44.860564           41.744932   \n",
            "3          60.953139  43.199110  47.804722  41.802660           40.965047   \n",
            "4          62.202788  41.927483  50.757388  41.707155           35.753884   \n",
            "...              ...        ...        ...        ...                 ...   \n",
            "20686      65.457479  59.751429  60.027154  74.453909           53.221816   \n",
            "20687      68.637015  60.602324  59.221265  74.199310           43.216377   \n",
            "20688      63.866773  60.690186  57.483329  77.290562           49.511952   \n",
            "20689      74.139930  63.345547  72.950078  71.166304           71.034376   \n",
            "20690      76.597862  63.267777  70.386731  73.452134           72.661106   \n",
            "\n",
            "       long_passing       Posición Grupo  Es titular?  \n",
            "0         64.108908      Delantero     C        False  \n",
            "1         63.391355       Portería     C         True  \n",
            "2         63.576772  MedioCampista     D        False  \n",
            "3         61.929161       Defensor     B         True  \n",
            "4         65.954788       Portería     D        False  \n",
            "...             ...            ...   ...          ...  \n",
            "20686     64.904620       Defensor     C        False  \n",
            "20687     65.336358       Portería     C        False  \n",
            "20688     63.051872       Portería     A         True  \n",
            "20689     73.606665  MedioCampista     C        False  \n",
            "20690     72.124693      Delantero     B        False  \n",
            "\n",
            "[20000 rows x 14 columns]\n"
          ]
        }
      ]
    },
    {
      "cell_type": "markdown",
      "source": [
        "Función para visualizar datos en un eje"
      ],
      "metadata": {
        "id": "HK_xkCGGPEav"
      }
    },
    {
      "cell_type": "code",
      "source": [
        "def plotData(x, y):\n",
        "    #Grafica los puntos x e y en una figura nueva.\n",
        "\n",
        "    fig = pyplot.figure()  # abre una nueva figura\n",
        "\n",
        "    pyplot.plot(x, y, 'ro', ms=10, mec='k')\n",
        "    pyplot.ylabel('Centros')\n",
        "    pyplot.xlabel('Potencial')"
      ],
      "metadata": {
        "id": "v_m4Uy15O2EL"
      },
      "execution_count": 75,
      "outputs": []
    },
    {
      "cell_type": "code",
      "source": [
        "plotData(nuevo_data.iloc[:1000,1], nuevo_data.iloc[:1000,2])\n",
        "plotData(data_duplicado.iloc[:1000,1], data_duplicado.iloc[:1000,2])"
      ],
      "metadata": {
        "colab": {
          "base_uri": "https://localhost:8080/",
          "height": 881
        },
        "id": "8CcjzaR7PNMC",
        "outputId": "d0804489-6515-4361-999c-43af4571efdd"
      },
      "execution_count": 76,
      "outputs": [
        {
          "output_type": "display_data",
          "data": {
            "text/plain": [
              "<Figure size 640x480 with 1 Axes>"
            ],
            "image/png": "[encoded data removed]"
          },
          "metadata": {}
        },
        {
          "output_type": "display_data",
          "data": {
            "text/plain": [
              "<Figure size 640x480 with 1 Axes>"
            ],
            "image/png": "[encoded data removed]"
          },
          "metadata": {}
        }
      ]
    },
    {
      "cell_type": "markdown",
      "source": [
        "Juntar los dataset inicial y sintetico en un solo data set"
      ],
      "metadata": {
        "id": "5Prx4-sbRXOQ"
      }
    },
    {
      "cell_type": "code",
      "source": [
        "def intercalar_filas(df1, df2):\n",
        "    # Concatenar los DataFrames fila por fila alternadamente\n",
        "    df_combined = pd.DataFrame()\n",
        "    for i in range(df1.shape[0]):\n",
        "        df_combined = pd.concat([df_combined, df1.iloc[[i]], df2.iloc[[i]]], ignore_index=True)\n",
        "    return df_combined"
      ],
      "metadata": {
        "id": "2o6KQ8FTRgxL"
      },
      "execution_count": 77,
      "outputs": []
    },
    {
      "cell_type": "code",
      "source": [
        "data_final = intercalar_filas(nuevo_data, data_duplicado)\n",
        "print(data_final)"
      ],
      "metadata": {
        "colab": {
          "base_uri": "https://localhost:8080/"
        },
        "id": "gfxiXTHvTPRN",
        "outputId": "d4efa49d-ded3-4f68-c472-c9007d1fe367"
      },
      "execution_count": 78,
      "outputs": [
        {
          "output_type": "stream",
          "name": "stdout",
          "text": [
            "       overall_rating  potential   crossing  finishing  heading_accuracy  \\\n",
            "0                 3.0  71.000000  49.000000  44.000000         71.000000   \n",
            "1                 3.0  68.309365  51.564797  45.397084         68.091485   \n",
            "2                 3.0  71.000000  49.000000  44.000000         71.000000   \n",
            "3                 3.0  68.925051  51.453460  45.728965         71.895195   \n",
            "4                 3.0  66.000000  49.000000  44.000000         71.000000   \n",
            "...               ...        ...        ...        ...               ...   \n",
            "39995             3.0  64.629722  61.269432  44.876549         55.864444   \n",
            "39996             3.0  73.000000  62.000000  72.000000         58.000000   \n",
            "39997             3.0  71.406659  59.313266  71.594180         58.299721   \n",
            "39998             3.0  73.000000  62.000000  72.000000         58.000000   \n",
            "39999             3.0  72.722603  60.797619  73.029754         59.193768   \n",
            "\n",
            "       short_passing    volleys  dribbling      curve  free_kick_accuracy  \\\n",
            "0          61.000000  44.000000  51.000000  45.000000           39.000000   \n",
            "1          62.520204  44.710882  48.831316  44.390370           36.738457   \n",
            "2          61.000000  44.000000  51.000000  45.000000           39.000000   \n",
            "3          60.210034  46.751834  48.849239  46.716207           38.892394   \n",
            "4          61.000000  44.000000  51.000000  45.000000           39.000000   \n",
            "...              ...        ...        ...        ...                 ...   \n",
            "39995      63.866773  60.690186  57.483329  77.290562           49.511952   \n",
            "39996      77.000000  64.000000  71.000000  73.000000           73.000000   \n",
            "39997      74.139930  63.345547  72.950078  71.166304           71.034376   \n",
            "39998      77.000000  64.000000  71.000000  73.000000           73.000000   \n",
            "39999      76.597862  63.267777  70.386731  73.452134           72.661106   \n",
            "\n",
            "       long_passing       Posición Grupo  Es titular?  \n",
            "0         64.000000      Delantero     B        False  \n",
            "1         64.108908      Delantero     C        False  \n",
            "2         64.000000  MedioCampista     A         True  \n",
            "3         63.391355       Portería     C         True  \n",
            "4         64.000000       Defensor     D        False  \n",
            "...             ...            ...   ...          ...  \n",
            "39995     63.051872       Portería     A         True  \n",
            "39996     73.000000       Portería     D         True  \n",
            "39997     73.606665  MedioCampista     C        False  \n",
            "39998     73.000000       Defensor     C        False  \n",
            "39999     72.124693      Delantero     B        False  \n",
            "\n",
            "[40000 rows x 14 columns]\n"
          ]
        }
      ]
    },
    {
      "cell_type": "markdown",
      "source": [
        "####Cargar datos en variables para usar"
      ],
      "metadata": {
        "id": "jHFPg85sbPDm"
      }
    },
    {
      "cell_type": "markdown",
      "source": [
        "Voy a ignorar los datos de caracteres, texto y boleanos ya que fueron agregados de forma randomica y pueden afectar de manera negativa a las prediciciónes además que son datos que no se pueden procesar en una regresión se tendrían que cambiar a datos numericos, como perjudican más de lo que ayudan en la precisión de entrenamiento los dejaré fuera"
      ],
      "metadata": {
        "id": "JeWHIjrVcisp"
      }
    },
    {
      "cell_type": "code",
      "source": [
        "X = data_final.iloc[:32000, 1:11]\n",
        "y = data_final.iloc[:32000, 0]\n",
        "m = y.size\n",
        "X_prueb = data_final.iloc[32000:40000, 1:11]\n",
        "y_prueb = data_final.iloc[32000:40000, 0]\n",
        "m_prueb = y_prueb.size\n",
        "num_labels = 5\n",
        "print (X)\n",
        "print (y)\n",
        "print (X_prueb)\n",
        "print (y_prueb)"
      ],
      "metadata": {
        "colab": {
          "base_uri": "https://localhost:8080/"
        },
        "id": "phx4Yc7mbTWw",
        "outputId": "8f1cd7d7-350f-4db5-cdcc-e9093bf1bc73"
      },
      "execution_count": 79,
      "outputs": [
        {
          "output_type": "stream",
          "name": "stdout",
          "text": [
            "       potential   crossing  finishing  heading_accuracy  short_passing  \\\n",
            "0      71.000000  49.000000  44.000000         71.000000      61.000000   \n",
            "1      68.309365  51.564797  45.397084         68.091485      62.520204   \n",
            "2      71.000000  49.000000  44.000000         71.000000      61.000000   \n",
            "3      68.925051  51.453460  45.728965         71.895195      60.210034   \n",
            "4      66.000000  49.000000  44.000000         71.000000      61.000000   \n",
            "...          ...        ...        ...               ...            ...   \n",
            "31995  90.865625  77.231819  83.028149         49.941434      81.548884   \n",
            "31996  88.000000  80.000000  83.000000         50.000000      84.000000   \n",
            "31997  85.975044  79.243842  80.396019         50.752407      81.711095   \n",
            "31998  88.000000  80.000000  83.000000         54.000000      84.000000   \n",
            "31999  86.374483  77.170413  80.136123         51.454230      82.019647   \n",
            "\n",
            "         volleys  dribbling      curve  free_kick_accuracy  long_passing  \n",
            "0      44.000000  51.000000  45.000000           39.000000     64.000000  \n",
            "1      44.710882  48.831316  44.390370           36.738457     64.108908  \n",
            "2      44.000000  51.000000  45.000000           39.000000     64.000000  \n",
            "3      46.751834  48.849239  46.716207           38.892394     63.391355  \n",
            "4      44.000000  51.000000  45.000000           39.000000     64.000000  \n",
            "...          ...        ...        ...                 ...           ...  \n",
            "31995  85.119688  94.417495  85.394192           82.323334     73.961867  \n",
            "31996  84.000000  93.000000  85.000000           84.000000     73.000000  \n",
            "31997  82.098257  92.599720  87.480320           82.804315     75.098357  \n",
            "31998  84.000000  93.000000  85.000000           84.000000     73.000000  \n",
            "31999  83.075156  90.613935  86.358561           85.354226     74.492272  \n",
            "\n",
            "[32000 rows x 10 columns]\n",
            "0        3.0\n",
            "1        3.0\n",
            "2        3.0\n",
            "3        3.0\n",
            "4        3.0\n",
            "        ... \n",
            "31995    4.0\n",
            "31996    4.0\n",
            "31997    4.0\n",
            "31998    4.0\n",
            "31999    4.0\n",
            "Name: overall_rating, Length: 32000, dtype: float64\n",
            "       potential   crossing  finishing  heading_accuracy  short_passing  \\\n",
            "32000  87.000000  80.000000  84.000000         54.000000      84.000000   \n",
            "32001  88.334389  78.186130  86.874535         52.233580      83.623016   \n",
            "32002  87.000000  80.000000  84.000000         54.000000      84.000000   \n",
            "32003  86.377584  81.376417  83.671149         53.473472      83.325312   \n",
            "32004  87.000000  80.000000  84.000000         54.000000      84.000000   \n",
            "...          ...        ...        ...               ...            ...   \n",
            "39995  64.629722  61.269432  44.876549         55.864444      63.866773   \n",
            "39996  73.000000  62.000000  72.000000         58.000000      77.000000   \n",
            "39997  71.406659  59.313266  71.594180         58.299721      74.139930   \n",
            "39998  73.000000  62.000000  72.000000         58.000000      77.000000   \n",
            "39999  72.722603  60.797619  73.029754         59.193768      76.597862   \n",
            "\n",
            "         volleys  dribbling      curve  free_kick_accuracy  long_passing  \n",
            "32000  84.000000  93.000000  85.000000           84.000000     73.000000  \n",
            "32001  84.762412  94.559817  83.360393           81.143045     75.349715  \n",
            "32002  84.000000  93.000000  85.000000           84.000000     73.000000  \n",
            "32003  84.246483  91.811517  87.167001           83.376892     74.343240  \n",
            "32004  84.000000  93.000000  85.000000           84.000000     73.000000  \n",
            "...          ...        ...        ...                 ...           ...  \n",
            "39995  60.690186  57.483329  77.290562           49.511952     63.051872  \n",
            "39996  64.000000  71.000000  73.000000           73.000000     73.000000  \n",
            "39997  63.345547  72.950078  71.166304           71.034376     73.606665  \n",
            "39998  64.000000  71.000000  73.000000           73.000000     73.000000  \n",
            "39999  63.267777  70.386731  73.452134           72.661106     72.124693  \n",
            "\n",
            "[8000 rows x 10 columns]\n",
            "32000    4.0\n",
            "32001    4.0\n",
            "32002    4.0\n",
            "32003    4.0\n",
            "32004    4.0\n",
            "        ... \n",
            "39995    3.0\n",
            "39996    3.0\n",
            "39997    3.0\n",
            "39998    3.0\n",
            "39999    3.0\n",
            "Name: overall_rating, Length: 8000, dtype: float64\n"
          ]
        }
      ]
    },
    {
      "cell_type": "markdown",
      "source": [
        "##Modelo de regresión logistica"
      ],
      "metadata": {
        "id": "4brCE064eGTy"
      }
    },
    {
      "cell_type": "markdown",
      "source": [
        "Función de normalización"
      ],
      "metadata": {
        "id": "9y1tATrghLGZ"
      }
    },
    {
      "cell_type": "code",
      "source": [
        "def  featureNormalize(X):\n",
        "    X_norm = X.copy()\n",
        "    mu = np.zeros(X.shape[1])\n",
        "    sigma = np.zeros(X.shape[1])\n",
        "    mu = np.mean(X, axis = 0)\n",
        "    sigma = np.std(X, axis = 0)\n",
        "    X_norm = (X - mu) / sigma\n",
        "\n",
        "    return X_norm, mu, sigma"
      ],
      "metadata": {
        "id": "stbCObtIeKyR"
      },
      "execution_count": 80,
      "outputs": []
    },
    {
      "cell_type": "markdown",
      "source": [
        "Normalización de datos de entrenamiento y prueba"
      ],
      "metadata": {
        "id": "S1rTCpwZhVB6"
      }
    },
    {
      "cell_type": "code",
      "source": [
        "X_norm, mu, sigma = featureNormalize(X)\n",
        "X_prueb_norm, mu_prueb, sigma_prueb = featureNormalize(X_prueb)"
      ],
      "metadata": {
        "id": "JfCXhuFChHGi"
      },
      "execution_count": 81,
      "outputs": []
    },
    {
      "cell_type": "markdown",
      "source": [
        "Función de activación Sigmoide"
      ],
      "metadata": {
        "id": "AsiVb2muhrzg"
      }
    },
    {
      "cell_type": "code",
      "source": [
        "def sigmoid(z):\n",
        "    z = np.array(z)\n",
        "    g = np.zeros(z.shape)\n",
        "    g = 1 / (1 + np.exp(-z))\n",
        "    return g"
      ],
      "metadata": {
        "id": "DTegZiKnhnbi"
      },
      "execution_count": 82,
      "outputs": []
    },
    {
      "cell_type": "markdown",
      "source": [
        "Concatenamos x0 para los datos de entrenamiento y los datos de prueba"
      ],
      "metadata": {
        "id": "-vV7HGx3iInH"
      }
    },
    {
      "cell_type": "code",
      "source": [
        "X = np.concatenate([np.ones((m, 1)), X_norm], axis=1)\n",
        "X_prueb = np.concatenate([np.ones((m_prueb, 1)), X_prueb], axis=1)"
      ],
      "metadata": {
        "id": "FGhyftE1iWq7"
      },
      "execution_count": 83,
      "outputs": []
    },
    {
      "cell_type": "markdown",
      "source": [
        "Función de costo de la regresión lineal logistica\n",
        "\n",
        "$$ J(\\theta) = \\frac{1}{m} \\sum_{i=1}^{m} \\left[ -y^{(i)} \\log\\left(h_\\theta\\left( x^{(i)} \\right) \\right) - \\left( 1 - y^{(i)}\\right) \\log \\left( 1 - h_\\theta\\left( x^{(i)} \\right) \\right) \\right]$$\n",
        "\n",
        "es la función binary cross entropy"
      ],
      "metadata": {
        "id": "P-KfNGQbjwZb"
      }
    },
    {
      "cell_type": "code",
      "source": [
        "def calcularCosto(theta, X, y):\n",
        "    m = y.size\n",
        "    J = 0\n",
        "    h = sigmoid(X.dot(theta.T))\n",
        "    J = (1 / m) * np.sum(-y.dot(np.log(h)) - (1 - y).dot(np.log(1 - h)))\n",
        "\n",
        "    return J"
      ],
      "metadata": {
        "id": "mNDTF_nsk-N8"
      },
      "execution_count": 84,
      "outputs": []
    },
    {
      "cell_type": "markdown",
      "source": [
        "Función que por medio de repeticiones logra sacar la mejor theta posible mediante el descenso por la gradiente"
      ],
      "metadata": {
        "id": "xohvKKfqm7_w"
      }
    },
    {
      "cell_type": "code",
      "source": [
        "def descensoGradiente(theta, X, y, alpha, num_iters):\n",
        "    m = y.shape[0]\n",
        "    theta = theta.copy()\n",
        "    J_history = []\n",
        "\n",
        "    for i in range(num_iters):\n",
        "        h = sigmoid(X.dot(theta.T))\n",
        "        #Actualiza los parametros de theta con la formula del descenso por la gradiente\n",
        "        theta = theta - (alpha / m) * (h - y).dot(X)\n",
        "        J_history.append(calcularCosto(theta, X, y))\n",
        "\n",
        "    return theta, J_history"
      ],
      "metadata": {
        "id": "xKSCo9yzlXOw"
      },
      "execution_count": 85,
      "outputs": []
    },
    {
      "cell_type": "markdown",
      "source": [
        "Función que saca las precciones con sigmoide de los datos que le pasemos"
      ],
      "metadata": {
        "id": "PFZRanxErI-E"
      }
    },
    {
      "cell_type": "code",
      "source": [
        "def prediccion(theta, X):\n",
        "    m = X.shape[0]\n",
        "    p = np.zeros(m)\n",
        "    p = np.round(sigmoid(X.dot(theta.T)))\n",
        "    return p"
      ],
      "metadata": {
        "id": "YjERWsGKqPyC"
      },
      "execution_count": 86,
      "outputs": []
    },
    {
      "cell_type": "markdown",
      "source": [
        "###Ejecución de las funciones en cada caso y su prueba de eficacia"
      ],
      "metadata": {
        "id": "nzGgFlkKnEjk"
      }
    },
    {
      "cell_type": "markdown",
      "source": [
        "funcion que devuelve un array de datos convertidoa a 0 o 1 según la clase"
      ],
      "metadata": {
        "id": "gocb7wiU2kjD"
      }
    },
    {
      "cell_type": "code",
      "source": [
        "def covertirbin(clase,x):\n",
        "  m = x.shape[0]\n",
        "  yb = np.zeros(m)\n",
        "  for i in range(m):\n",
        "    if x.iloc[i] == clase:\n",
        "      yb[i] = 1\n",
        "    else:\n",
        "      yb[i] = 0\n",
        "  return yb"
      ],
      "metadata": {
        "id": "vR-KuHAs1eM-"
      },
      "execution_count": 87,
      "outputs": []
    },
    {
      "cell_type": "markdown",
      "source": [
        "####Primera clase (0)"
      ],
      "metadata": {
        "id": "FOKmnR30shEA"
      }
    },
    {
      "cell_type": "code",
      "source": [
        "y_0 = covertirbin(0,y)\n",
        "y_prueb_0 = covertirbin(0,y_prueb)\n",
        "\n",
        "alpha = 0.02\n",
        "num_iters = 6000\n",
        "theta_0 = np.zeros(X.shape[1])\n",
        "theta_0, J_history = descensoGradiente(theta_0, X, y_0, alpha, num_iters)\n",
        "\n",
        "pyplot.plot(np.arange(len(J_history)), J_history, lw=2)\n",
        "pyplot.xlabel('Numero de iteraciones')\n",
        "pyplot.ylabel('Costo J')\n",
        "\n",
        "print('ultimo J: ',J_history[-1])\n",
        "print('--------------------------------------------------------------------------')\n",
        "print('theta calculado por el descenso por el gradiente: {:s}'.format(str(theta_0)))\n",
        "print('--------------------------------------------------------------------------')"
      ],
      "metadata": {
        "colab": {
          "base_uri": "https://localhost:8080/",
          "height": 553
        },
        "id": "C7Bfm6TanIHU",
        "outputId": "651d30ae-9c15-46d6-ba4c-e0ff1c806e0c"
      },
      "execution_count": 88,
      "outputs": [
        {
          "output_type": "stream",
          "name": "stdout",
          "text": [
            "ultimo J:  0.008562818299908181\n",
            "--------------------------------------------------------------------------\n",
            "theta calculado por el descenso por el gradiente: [-4.75604144e+00  2.17157917e-15 -1.21890165e-15  9.16972887e-16\n",
            " -5.92981081e-16  9.67158541e-16 -1.34115885e-15 -7.42810258e-16\n",
            "  1.26322786e-15 -4.44831463e-16 -3.69010785e-16]\n",
            "--------------------------------------------------------------------------\n"
          ]
        },
        {
          "output_type": "display_data",
          "data": {
            "text/plain": [
              "<Figure size 640x480 with 1 Axes>"
            ],
            "image/png": "[encoded data removed]"
          },
          "metadata": {}
        }
      ]
    },
    {
      "cell_type": "code",
      "source": [
        "p = prediccion(theta_0, X)\n",
        "print('Precisión de entrenamiento: {:.2f} %'.format(np.mean(p == y_0) * 100))\n",
        "print(p[1000:1020])\n",
        "print(y_0[1000:1020])"
      ],
      "metadata": {
        "colab": {
          "base_uri": "https://localhost:8080/"
        },
        "id": "_jq588XSqRI9",
        "outputId": "bd7b5dad-07e8-4167-c5c2-f8c1d6fb2397"
      },
      "execution_count": 89,
      "outputs": [
        {
          "output_type": "stream",
          "name": "stdout",
          "text": [
            "Precisión de entrenamiento: 100.00 %\n",
            "[0. 0. 0. 0. 0. 0. 0. 0. 0. 0. 0. 0. 0. 0. 0. 0. 0. 0. 0. 0.]\n",
            "[0. 0. 0. 0. 0. 0. 0. 0. 0. 0. 0. 0. 0. 0. 0. 0. 0. 0. 0. 0.]\n"
          ]
        }
      ]
    },
    {
      "cell_type": "code",
      "source": [
        "p = prediccion(theta_0, X_prueb)\n",
        "print('Precisión de los datos de prueba: {:.2f} %'.format(np.mean(p == y_prueb_0) * 100))\n",
        "print(p[1000:1020])\n",
        "print(y_prueb_0[1000:1020])"
      ],
      "metadata": {
        "colab": {
          "base_uri": "https://localhost:8080/"
        },
        "id": "xmBz2PszrfT2",
        "outputId": "cb576cd4-aa55-4a12-e485-dd2ba7844a8e"
      },
      "execution_count": 90,
      "outputs": [
        {
          "output_type": "stream",
          "name": "stdout",
          "text": [
            "Precisión de los datos de prueba: 100.00 %\n",
            "[0. 0. 0. 0. 0. 0. 0. 0. 0. 0. 0. 0. 0. 0. 0. 0. 0. 0. 0. 0.]\n",
            "[0. 0. 0. 0. 0. 0. 0. 0. 0. 0. 0. 0. 0. 0. 0. 0. 0. 0. 0. 0.]\n"
          ]
        }
      ]
    },
    {
      "cell_type": "markdown",
      "source": [
        "####Segunda clase (1)"
      ],
      "metadata": {
        "id": "9hIBYsaLsoB8"
      }
    },
    {
      "cell_type": "code",
      "source": [
        "y_1 = covertirbin(1,y)\n",
        "y_prueb_1 = covertirbin(1,y_prueb)\n",
        "\n",
        "alpha = 0.03\n",
        "num_iters = 5000\n",
        "theta_1 = np.zeros(X.shape[1])\n",
        "theta_1, J_history = descensoGradiente(theta_1, X, y_1, alpha, num_iters)\n",
        "\n",
        "pyplot.plot(np.arange(len(J_history)), J_history, lw=2)\n",
        "pyplot.xlabel('Numero de iteraciones')\n",
        "pyplot.ylabel('Costo J')\n",
        "\n",
        "print('ultimo J: ',J_history[-1])\n",
        "print('--------------------------------------------------------------------------')\n",
        "print('theta calculado por el descenso por el gradiente: {:s}'.format(str(theta_1)))\n",
        "print('--------------------------------------------------------------------------')"
      ],
      "metadata": {
        "colab": {
          "base_uri": "https://localhost:8080/",
          "height": 553
        },
        "outputId": "b5088eb3-c1c0-4d72-c722-c8fce23adc7c",
        "id": "N2gTaf6Cssos"
      },
      "execution_count": 91,
      "outputs": [
        {
          "output_type": "stream",
          "name": "stdout",
          "text": [
            "ultimo J:  0.008152458711450325\n",
            "--------------------------------------------------------------------------\n",
            "theta calculado por el descenso por el gradiente: [-4.96616876e+00 -3.42494716e-02 -1.11256096e-02  2.33898756e-03\n",
            " -1.62351132e-02 -1.16407187e-02 -1.40985250e-02 -1.53996958e-02\n",
            "  2.31923225e-02  2.30679876e-02 -1.40607122e-02]\n",
            "--------------------------------------------------------------------------\n"
          ]
        },
        {
          "output_type": "display_data",
          "data": {
            "text/plain": [
              "<Figure size 640x480 with 1 Axes>"
            ],
            "image/png": "[encoded data removed]"
          },
          "metadata": {}
        }
      ]
    },
    {
      "cell_type": "code",
      "source": [
        "p = prediccion(theta_1, X)\n",
        "print('Precisión de entrenamiento: {:.2f} %'.format(np.mean(p == y_1) * 100))\n",
        "print(p[1000:1020])\n",
        "print(y_1[1000:1020])"
      ],
      "metadata": {
        "colab": {
          "base_uri": "https://localhost:8080/"
        },
        "id": "8nm02-3ts6LW",
        "outputId": "4c7b324a-f204-4e60-bcc4-90e1a8864757"
      },
      "execution_count": 92,
      "outputs": [
        {
          "output_type": "stream",
          "name": "stdout",
          "text": [
            "Precisión de entrenamiento: 99.98 %\n",
            "[0. 0. 0. 0. 0. 0. 0. 0. 0. 0. 0. 0. 0. 0. 0. 0. 0. 0. 0. 0.]\n",
            "[0. 0. 0. 0. 0. 0. 0. 0. 0. 0. 0. 0. 0. 0. 0. 0. 0. 0. 0. 0.]\n"
          ]
        }
      ]
    },
    {
      "cell_type": "code",
      "source": [
        "p = prediccion(theta_1, X_prueb)\n",
        "print('Precisión de los datos de prueba: {:.2f} %'.format(np.mean(p == y_prueb_1) * 100))\n",
        "print(p[1000:1020])\n",
        "print(y_prueb_1[1000:1020])"
      ],
      "metadata": {
        "colab": {
          "base_uri": "https://localhost:8080/"
        },
        "id": "5UJMFNhas7ZB",
        "outputId": "a26fa3c7-0a67-4599-d019-55c198df564e"
      },
      "execution_count": 93,
      "outputs": [
        {
          "output_type": "stream",
          "name": "stdout",
          "text": [
            "Precisión de los datos de prueba: 99.92 %\n",
            "[0. 0. 0. 0. 0. 0. 0. 0. 0. 0. 0. 0. 0. 0. 0. 0. 0. 0. 0. 0.]\n",
            "[0. 0. 0. 0. 0. 0. 0. 0. 0. 0. 0. 0. 0. 0. 0. 0. 0. 0. 0. 0.]\n"
          ]
        }
      ]
    },
    {
      "cell_type": "markdown",
      "source": [
        "####Tercera clase (2)"
      ],
      "metadata": {
        "id": "VQ2rhYHNteNP"
      }
    },
    {
      "cell_type": "code",
      "source": [
        "y_2 = covertirbin(2,y)\n",
        "y_prueb_2 = covertirbin(2,y_prueb)\n",
        "\n",
        "alpha = 0.02\n",
        "num_iters = 6000\n",
        "theta_2 = np.zeros(X.shape[1])\n",
        "theta_2, J_history = descensoGradiente(theta_2, X, y_2, alpha, num_iters)\n",
        "\n",
        "pyplot.plot(np.arange(len(J_history)), J_history, lw=2)\n",
        "pyplot.xlabel('Numero de iteraciones')\n",
        "pyplot.ylabel('Costo J')\n",
        "\n",
        "print('ultimo J: ',J_history[-1])\n",
        "print('--------------------------------------------------------------------------')\n",
        "print('theta calculado por el descenso por el gradiente: {:s}'.format(str(theta_2)))\n",
        "print('--------------------------------------------------------------------------')"
      ],
      "metadata": {
        "colab": {
          "base_uri": "https://localhost:8080/",
          "height": 536
        },
        "id": "vAT4ISKltfvi",
        "outputId": "87fcb911-83b7-4062-d3a5-f0f156da6230"
      },
      "execution_count": 94,
      "outputs": [
        {
          "output_type": "stream",
          "name": "stdout",
          "text": [
            "ultimo J:  0.23557199991443997\n",
            "--------------------------------------------------------------------------\n",
            "theta calculado por el descenso por el gradiente: [-3.04680457 -1.45520073 -0.1306358   0.09602962 -0.38610511 -0.11379788\n",
            "  0.0312522   0.29597662 -0.05215936 -0.40657197 -0.20657639]\n",
            "--------------------------------------------------------------------------\n"
          ]
        },
        {
          "output_type": "display_data",
          "data": {
            "text/plain": [
              "<Figure size 640x480 with 1 Axes>"
            ],
            "image/png": "[encoded data removed]"
          },
          "metadata": {}
        }
      ]
    },
    {
      "cell_type": "code",
      "source": [
        "p = prediccion(theta_2, X)\n",
        "print('Precisión de entrenamiento: {:.2f} %'.format(np.mean(p == y_2) * 100))\n",
        "print(p[1000:1020])\n",
        "print(y_2[1000:1020])"
      ],
      "metadata": {
        "colab": {
          "base_uri": "https://localhost:8080/"
        },
        "id": "-JMBdGjitlPO",
        "outputId": "97054285-b1da-4935-f7cc-74157e60dd73"
      },
      "execution_count": 95,
      "outputs": [
        {
          "output_type": "stream",
          "name": "stdout",
          "text": [
            "Precisión de entrenamiento: 90.62 %\n",
            "[0. 0. 0. 0. 0. 0. 0. 0. 0. 0. 0. 0. 0. 0. 0. 0. 0. 0. 0. 0.]\n",
            "[0. 0. 0. 0. 0. 0. 0. 0. 0. 0. 0. 0. 0. 0. 0. 0. 0. 0. 0. 0.]\n"
          ]
        }
      ]
    },
    {
      "cell_type": "code",
      "source": [
        "p = prediccion(theta_2, X_prueb)\n",
        "print('Precisión de los datos de prueba: {:.2f} %'.format(np.mean(p == y_prueb_2) * 100))\n",
        "print(p[1000:1020])\n",
        "print(y_prueb_2[1000:1020])"
      ],
      "metadata": {
        "colab": {
          "base_uri": "https://localhost:8080/"
        },
        "id": "f4rteEhQtnmT",
        "outputId": "bd3b70fc-30ff-4982-daed-cb41161124b0"
      },
      "execution_count": 96,
      "outputs": [
        {
          "output_type": "stream",
          "name": "stdout",
          "text": [
            "Precisión de los datos de prueba: 85.55 %\n",
            "[0. 0. 0. 0. 0. 0. 0. 0. 0. 0. 0. 0. 0. 0. 0. 0. 0. 0. 0. 0.]\n",
            "[0. 0. 0. 0. 0. 0. 0. 0. 0. 0. 0. 0. 0. 0. 1. 1. 1. 1. 0. 0.]\n"
          ]
        }
      ]
    },
    {
      "cell_type": "markdown",
      "source": [
        "####Cuarta clase (3)"
      ],
      "metadata": {
        "id": "4co4tC57ua1t"
      }
    },
    {
      "cell_type": "code",
      "source": [
        "y_3 = covertirbin(3,y)\n",
        "y_prueb_3 = covertirbin(3,y_prueb)\n",
        "\n",
        "alpha = 0.01\n",
        "num_iters = 6000\n",
        "theta_3 = np.zeros(X.shape[1])\n",
        "theta_3, J_history = descensoGradiente(theta_3, X, y_3, alpha, num_iters)\n",
        "\n",
        "pyplot.plot(np.arange(len(J_history)), J_history, lw=2)\n",
        "pyplot.xlabel('Numero de iteraciones')\n",
        "pyplot.ylabel('Costo J')\n",
        "\n",
        "print('ultimo J: ',J_history[-1])\n",
        "print('--------------------------------------------------------------------------')\n",
        "print('theta calculado por el descenso por el gradiente: {:s}'.format(str(theta_3)))\n",
        "print('--------------------------------------------------------------------------')\n"
      ],
      "metadata": {
        "colab": {
          "base_uri": "https://localhost:8080/",
          "height": 536
        },
        "id": "sHUo0ujOuxX-",
        "outputId": "37a705c4-eb99-4e68-9852-1b22ba8d8c96"
      },
      "execution_count": 97,
      "outputs": [
        {
          "output_type": "stream",
          "name": "stdout",
          "text": [
            "ultimo J:  0.40695306120318847\n",
            "--------------------------------------------------------------------------\n",
            "theta calculado por el descenso por el gradiente: [ 1.80840839  0.36845241  0.09194536 -0.06899199  0.32014033  0.13372396\n",
            " -0.26864178 -0.03517689  0.05203297  0.12075008  0.00983259]\n",
            "--------------------------------------------------------------------------\n"
          ]
        },
        {
          "output_type": "display_data",
          "data": {
            "text/plain": [
              "<Figure size 640x480 with 1 Axes>"
            ],
            "image/png": "[encoded data removed]"
          },
          "metadata": {}
        }
      ]
    },
    {
      "cell_type": "code",
      "source": [
        "p = prediccion(theta_3, X)\n",
        "print('Precisión de entrenamiento: {:.2f} %'.format(np.mean(p == y_3) * 100))\n",
        "print(p[1000:1020])\n",
        "print(y_3[1000:1020])"
      ],
      "metadata": {
        "colab": {
          "base_uri": "https://localhost:8080/"
        },
        "id": "oowleuHDuxxy",
        "outputId": "5195cb72-4fef-4211-ff2e-6ccbe8e50ebe"
      },
      "execution_count": 98,
      "outputs": [
        {
          "output_type": "stream",
          "name": "stdout",
          "text": [
            "Precisión de entrenamiento: 84.69 %\n",
            "[1. 1. 1. 1. 1. 1. 1. 1. 1. 1. 1. 1. 1. 1. 1. 1. 1. 1. 1. 1.]\n",
            "[1. 1. 1. 1. 1. 1. 1. 1. 1. 1. 1. 1. 1. 1. 1. 1. 1. 1. 1. 1.]\n"
          ]
        }
      ]
    },
    {
      "cell_type": "code",
      "source": [
        "p = prediccion(theta_3, X_prueb)\n",
        "print('Precisión de los datos de prueba: {:.2f} %'.format(np.mean(p == y_prueb_3) * 100))\n",
        "print(p[1000:1020])\n",
        "print(y_prueb_3[1000:1020])"
      ],
      "metadata": {
        "colab": {
          "base_uri": "https://localhost:8080/"
        },
        "id": "HQ3nT73_u1l_",
        "outputId": "b7405cbd-a093-40f3-92a2-67932820db7d"
      },
      "execution_count": 99,
      "outputs": [
        {
          "output_type": "stream",
          "name": "stdout",
          "text": [
            "Precisión de los datos de prueba: 80.08 %\n",
            "[1. 1. 1. 1. 1. 1. 1. 1. 1. 1. 1. 1. 1. 1. 1. 1. 1. 1. 1. 1.]\n",
            "[1. 1. 1. 1. 1. 1. 1. 1. 1. 1. 1. 1. 1. 1. 0. 0. 0. 0. 1. 1.]\n"
          ]
        }
      ]
    },
    {
      "cell_type": "markdown",
      "source": [
        "####Quinta clase (4)"
      ],
      "metadata": {
        "id": "eBWD97lOvGNX"
      }
    },
    {
      "cell_type": "code",
      "source": [
        "y_4 = covertirbin(4,y)\n",
        "y_prueb_4 = covertirbin(4,y_prueb)\n",
        "\n",
        "alpha = 0.02\n",
        "num_iters = 8000\n",
        "theta_4 = np.zeros(X.shape[1])\n",
        "theta_4, J_history = descensoGradiente(theta_4, X, y_4, alpha, num_iters)\n",
        "\n",
        "pyplot.plot(np.arange(len(J_history)), J_history, lw=2)\n",
        "pyplot.xlabel('Numero de iteraciones')\n",
        "pyplot.ylabel('Costo J')\n",
        "\n",
        "print('ultimo J: ',J_history[-1])\n",
        "print('--------------------------------------------------------------------------')\n",
        "print('theta calculado por el descenso por el gradiente: {:s}'.format(str(theta_4)))\n",
        "print('--------------------------------------------------------------------------')"
      ],
      "metadata": {
        "colab": {
          "base_uri": "https://localhost:8080/",
          "height": 553
        },
        "id": "fA8zElVavJUy",
        "outputId": "581ed37b-12b4-49f1-9ace-981b07609227"
      },
      "execution_count": 100,
      "outputs": [
        {
          "output_type": "stream",
          "name": "stdout",
          "text": [
            "ultimo J:  0.0868687883902841\n",
            "--------------------------------------------------------------------------\n",
            "theta calculado por el descenso por el gradiente: [-4.74716445e+00  1.67431721e+00 -1.11291567e-01 -3.19821208e-03\n",
            "  3.02960860e-01  2.63258872e-01  4.16904755e-01 -1.24896564e-01\n",
            " -1.76340422e-03  1.77206324e-01  4.12631332e-01]\n",
            "--------------------------------------------------------------------------\n"
          ]
        },
        {
          "output_type": "display_data",
          "data": {
            "text/plain": [
              "<Figure size 640x480 with 1 Axes>"
            ],
            "image/png": "[encoded data removed]"
          },
          "metadata": {}
        }
      ]
    },
    {
      "cell_type": "code",
      "source": [
        "p = prediccion(theta_4, X)\n",
        "print('Precisión de entrenamiento: {:.2f} %'.format(np.mean(p == y_4) * 100))\n",
        "print(p[1000:1020])\n",
        "print(y_4[1000:1020])"
      ],
      "metadata": {
        "colab": {
          "base_uri": "https://localhost:8080/"
        },
        "id": "cn4XgmKevRjb",
        "outputId": "b03c86b9-09bf-4370-b72b-5b57f5896873"
      },
      "execution_count": 101,
      "outputs": [
        {
          "output_type": "stream",
          "name": "stdout",
          "text": [
            "Precisión de entrenamiento: 96.74 %\n",
            "[0. 0. 0. 0. 0. 0. 0. 0. 0. 0. 0. 0. 0. 0. 0. 0. 0. 0. 0. 0.]\n",
            "[0. 0. 0. 0. 0. 0. 0. 0. 0. 0. 0. 0. 0. 0. 0. 0. 0. 0. 0. 0.]\n"
          ]
        }
      ]
    },
    {
      "cell_type": "code",
      "source": [
        "p = prediccion(theta_4, X_prueb)\n",
        "print('Precisión de los datos de prueba: {:.2f} %'.format(np.mean(p == y_prueb_4) * 100))\n",
        "print(p[1000:1020])\n",
        "print(y_prueb_4[1000:1020])"
      ],
      "metadata": {
        "colab": {
          "base_uri": "https://localhost:8080/"
        },
        "id": "yBEOI8rVvTur",
        "outputId": "52224e66-d992-4d9b-b845-1e0a12a3dc68"
      },
      "execution_count": 102,
      "outputs": [
        {
          "output_type": "stream",
          "name": "stdout",
          "text": [
            "Precisión de los datos de prueba: 5.40 %\n",
            "[1. 1. 1. 1. 1. 1. 1. 1. 1. 1. 1. 1. 1. 1. 1. 1. 1. 1. 1. 1.]\n",
            "[0. 0. 0. 0. 0. 0. 0. 0. 0. 0. 0. 0. 0. 0. 0. 0. 0. 0. 0. 0.]\n"
          ]
        }
      ]
    },
    {
      "cell_type": "markdown",
      "source": [
        "##Modelo One vs All"
      ],
      "metadata": {
        "id": "UGBpTVWj5RRW"
      }
    },
    {
      "cell_type": "markdown",
      "source": [
        "Funcion que calcula el costo binary cross entropy más término de regularización\n",
        "\n",
        "$$ J(\\theta) = \\frac{1}{m} \\sum_{i=1}^m \\left[ -y^{(i)} \\log \\left(h_\\theta\\left(x^{(i)} \\right)\\right) - \\left( 1 - y^{(i)} \\right) \\log\\left(1 - h_\\theta \\left(x^{(i)} \\right) \\right) \\right] + \\frac{\\lambda}{2m} \\sum_{j=1}^n \\theta_j^2 $$\n",
        "\n",
        "\n",
        "y entrena los thetas\n"
      ],
      "metadata": {
        "id": "dnaOjaiF9HYR"
      }
    },
    {
      "cell_type": "code",
      "source": [
        "def lrCostFunction(theta, X, y, lambda_):\n",
        "    m = y.size\n",
        "    h = sigmoid(X.dot(theta))\n",
        "\n",
        "    # Función de costo binary cross entropy con regularización\n",
        "    cost = (1 / m) * np.sum(-y * np.log(h) - (1 - y) * np.log(1 - h)) + (lambda_ / (2 * m)) * np.sum(np.square(theta[1:]))\n",
        "\n",
        "    # Gradiente con regularización\n",
        "    grad = (1 / m) * X.T.dot(h - y)\n",
        "    grad[1:] += (lambda_ / m) * theta[1:]\n",
        "\n",
        "    return cost, grad"
      ],
      "metadata": {
        "id": "wjPt5Ow456NQ"
      },
      "execution_count": 103,
      "outputs": []
    },
    {
      "cell_type": "markdown",
      "source": [
        "Descenso por la gradiente para calcular por numpy"
      ],
      "metadata": {
        "id": "CgO44AWFBCgv"
      }
    },
    {
      "cell_type": "code",
      "source": [
        "def gradientDescent(X, y, initial_theta, alpha, num_iters, lambda_):\n",
        "\n",
        "    theta = initial_theta.copy()\n",
        "    m = y.size\n",
        "    J_history = []\n",
        "\n",
        "#Hace iteraciones para encontrar los theta optimos con los parametros que le pasemos\n",
        "    for _ in range(num_iters):\n",
        "        #aplicación de la funcion de costo\n",
        "        cost, grad = lrCostFunction(theta, X, y, lambda_)\n",
        "        #Minimización de la función de costo: El gradiente grad apunta en la dirección de mayor aumento de la función de costo.\n",
        "        #Al restar este gradiente (theta -= ...), estamos actualizando los parámetros en la dirección opuesta,\n",
        "        #lo que ayuda a minimizar la función de costo.\n",
        "        theta -= alpha * grad\n",
        "        #Guarda el costo del calculo de theta para x clase\n",
        "        J_history.append(cost)\n",
        "\n",
        "    return theta, J_history\n"
      ],
      "metadata": {
        "id": "iPMAjeajBCAF"
      },
      "execution_count": 104,
      "outputs": []
    },
    {
      "cell_type": "markdown",
      "source": [
        "Funcion para calcular todas las thetas es decir las diferentes thetas para cada clase\n",
        "\n",
        "Entrena un clasificador de regresión logística para un problema de clasificación multiclase usando el enfoque One-vs-All"
      ],
      "metadata": {
        "id": "qvULxh8e_HyS"
      }
    },
    {
      "cell_type": "code",
      "source": [
        "def oneVsAll(X, y, num_labels, alpha, num_iters, lambda_):\n",
        "\n",
        "    m, n = X.shape\n",
        "    all_theta = np.zeros((num_labels, n))\n",
        "    J_history_all = []\n",
        "\n",
        "    for c in range(num_labels):\n",
        "      #muesta mensaje indicando el numero de clase\n",
        "      print(f\"Entrenando clase {c+1} de {num_labels}...\")\n",
        "      #convierte los datos en boleanos y luego en enteros de nuevo dependiendo de la clase que estemos evaluando\n",
        "      y_c = (y == c).astype(int)\n",
        "      initial_theta = np.zeros(n)\n",
        "\n",
        "      theta, J_history = gradientDescent(X, y_c, initial_theta, alpha, num_iters, lambda_)\n",
        "      #agrega los thetas encontrados al total de thetas\n",
        "      all_theta[c] = theta\n",
        "      #total de costos\n",
        "      J_history_all.append(J_history)\n",
        "\n",
        "      # Graficar J_history para la clase actual\n",
        "      plt.plot(J_history, label=f'Clase {c+1}')\n",
        "\n",
        "    plt.xlabel('Número de Iteraciones')\n",
        "    plt.ylabel('Costo')\n",
        "    plt.title('Historial del Costo para cada Clase')\n",
        "    plt.legend()\n",
        "    plt.show()\n",
        "\n",
        "    return all_theta"
      ],
      "metadata": {
        "id": "78VdvF_F-2Vp"
      },
      "execution_count": 105,
      "outputs": []
    },
    {
      "cell_type": "markdown",
      "source": [
        "Aplicación del las funciones"
      ],
      "metadata": {
        "id": "YV_FYEp9DDE7"
      }
    },
    {
      "cell_type": "code",
      "source": [
        "alpha = 0.01\n",
        "num_iters = 10000\n",
        "lambda_ = 0.01\n",
        "all_theta = oneVsAll(X, y, num_labels, alpha, num_iters, lambda_)"
      ],
      "metadata": {
        "colab": {
          "base_uri": "https://localhost:8080/",
          "height": 559
        },
        "id": "sY9WkL07DCym",
        "outputId": "ca24131f-7f86-49ed-ab29-a4a160489745"
      },
      "execution_count": 106,
      "outputs": [
        {
          "output_type": "stream",
          "name": "stdout",
          "text": [
            "Entrenando clase 1 de 5...\n",
            "Entrenando clase 2 de 5...\n",
            "Entrenando clase 3 de 5...\n",
            "Entrenando clase 4 de 5...\n",
            "Entrenando clase 5 de 5...\n"
          ]
        },
        {
          "output_type": "display_data",
          "data": {
            "text/plain": [
              "<Figure size 640x480 with 1 Axes>"
            ],
            "image/png": "[encoded data removed]"
          },
          "metadata": {}
        }
      ]
    },
    {
      "cell_type": "code",
      "source": [
        "print('thetas one vs all: ',all_theta)\n",
        "print('---------------------------------------------')\n",
        "print('thetas regreción logistica: ')\n",
        "print(theta_0)\n",
        "print(theta_1)\n",
        "print(theta_2)\n",
        "print(theta_3)\n",
        "print(theta_4)"
      ],
      "metadata": {
        "colab": {
          "base_uri": "https://localhost:8080/"
        },
        "id": "1J6z8U3ME3sF",
        "outputId": "5d395308-28c5-4f4f-b260-6fec752f5b79"
      },
      "execution_count": 107,
      "outputs": [
        {
          "output_type": "stream",
          "name": "stdout",
          "text": [
            "thetas one vs all:  [[-4.56902896e+00  2.17427783e-15 -1.20574176e-15  8.89780195e-16\n",
            "  -5.85929485e-16  9.32943823e-16 -1.31232308e-15 -7.19126245e-16\n",
            "   1.22634923e-15 -4.34221624e-16 -3.53861360e-16]\n",
            " [-4.55688353e+00 -2.29018382e-02 -7.45240735e-03  1.54351260e-03\n",
            "  -1.08949142e-02 -7.82096552e-03 -9.42194313e-03 -1.03168745e-02\n",
            "   1.54812916e-02  1.54116586e-02 -9.42532918e-03]\n",
            " [-2.99261751e+00 -1.41330217e+00 -1.13250033e-01  9.29663612e-02\n",
            "  -3.72808956e-01 -1.23780676e-01  3.28175933e-02  2.63882047e-01\n",
            "  -5.31881327e-02 -3.76830708e-01 -2.05962289e-01]\n",
            " [ 1.81588929e+00  3.75681354e-01  1.05385052e-01 -5.21913959e-02\n",
            "   3.30559581e-01  1.40397906e-01 -3.18566460e-01 -4.78101477e-02\n",
            "   6.51897381e-02  1.45595752e-01 -1.41952534e-02]\n",
            " [-4.19947529e+00  1.37231825e+00 -7.81947693e-02  2.45740552e-02\n",
            "   2.30223915e-01  2.16758635e-01  3.38562551e-01 -7.19852475e-02\n",
            "   2.47299701e-03  1.50525754e-01  3.41204815e-01]]\n",
            "---------------------------------------------\n",
            "thetas regreción logistica: \n",
            "[-4.75604144e+00  2.17157917e-15 -1.21890165e-15  9.16972887e-16\n",
            " -5.92981081e-16  9.67158541e-16 -1.34115885e-15 -7.42810258e-16\n",
            "  1.26322786e-15 -4.44831463e-16 -3.69010785e-16]\n",
            "[-4.96616876e+00 -3.42494716e-02 -1.11256096e-02  2.33898756e-03\n",
            " -1.62351132e-02 -1.16407187e-02 -1.40985250e-02 -1.53996958e-02\n",
            "  2.31923225e-02  2.30679876e-02 -1.40607122e-02]\n",
            "[-3.04680457 -1.45520073 -0.1306358   0.09602962 -0.38610511 -0.11379788\n",
            "  0.0312522   0.29597662 -0.05215936 -0.40657197 -0.20657639]\n",
            "[ 1.80840839  0.36845241  0.09194536 -0.06899199  0.32014033  0.13372396\n",
            " -0.26864178 -0.03517689  0.05203297  0.12075008  0.00983259]\n",
            "[-4.74716445e+00  1.67431721e+00 -1.11291567e-01 -3.19821208e-03\n",
            "  3.02960860e-01  2.63258872e-01  4.16904755e-01 -1.24896564e-01\n",
            " -1.76340422e-03  1.77206324e-01  4.12631332e-01]\n"
          ]
        }
      ]
    },
    {
      "cell_type": "markdown",
      "source": [
        "Función para predecir one vs All\n"
      ],
      "metadata": {
        "id": "V9f1vFGNE45Y"
      }
    },
    {
      "cell_type": "code",
      "source": [
        "def predictOneVsAll(all_theta, X):\n",
        "    m = X.shape[0];\n",
        "    num_labels = all_theta.shape[0]\n",
        "\n",
        "    p = np.zeros(m)\n",
        "    # Calcula las probabilidades de cada clase usando la función sigmoide y el producto de matrices\n",
        "    # entre X y los parámetros transpuestos (all_theta.T)\n",
        "    p = np.argmax(sigmoid(X.dot(all_theta.T)), axis = 1)\n",
        "    #La función np.argmax selecciona la clase con la probabilidad más alta para cada ejemplo.\n",
        "    #axis=1 indica que la búsqueda se realiza a lo largo del eje de las clases.\n",
        "    return p"
      ],
      "metadata": {
        "id": "UP3YYi__E78r"
      },
      "execution_count": 108,
      "outputs": []
    },
    {
      "cell_type": "markdown",
      "source": [
        "Calculo de efectividad con los datos de entrenamiento"
      ],
      "metadata": {
        "id": "PvANIfmZFVVG"
      }
    },
    {
      "cell_type": "code",
      "source": [
        "pred = predictOneVsAll(all_theta, X)\n",
        "print('Precision del conjuto de entrenamiento: {:.2f}%'.format(np.mean(pred == y) * 100))\n",
        "print(\"------------------------------------------------------------------------\")\n",
        "print(\"Datos comparados:\")\n",
        "print(pred[1000:1100])\n",
        "print(y[1000:1100])"
      ],
      "metadata": {
        "colab": {
          "base_uri": "https://localhost:8080/"
        },
        "id": "tHloaqNjFUY3",
        "outputId": "c4abe7ab-5b84-4bad-e2d4-0acadc19765a"
      },
      "execution_count": 109,
      "outputs": [
        {
          "output_type": "stream",
          "name": "stdout",
          "text": [
            "Precision del conjuto de entrenamiento: 85.99%\n",
            "------------------------------------------------------------------------\n",
            "Datos comparados:\n",
            "[3 3 3 3 3 3 3 3 3 3 3 3 3 3 3 3 3 3 3 3 3 3 3 3 3 3 3 3 3 3 3 3 3 3 3 3 3\n",
            " 3 3 3 3 3 2 2 2 3 3 2 3 2 3 3 3 3 3 3 3 3 3 3 3 3 3 3 3 3 3 3 3 3 3 3 3 3\n",
            " 3 3 3 3 3 3 3 3 3 3 3 3 3 3 3 3 3 3 3 3 3 3 3 3 3 3]\n",
            "1000    3.0\n",
            "1001    3.0\n",
            "1002    3.0\n",
            "1003    3.0\n",
            "1004    3.0\n",
            "       ... \n",
            "1095    3.0\n",
            "1096    3.0\n",
            "1097    3.0\n",
            "1098    3.0\n",
            "1099    3.0\n",
            "Name: overall_rating, Length: 100, dtype: float64\n"
          ]
        }
      ]
    },
    {
      "cell_type": "markdown",
      "source": [
        "Calculo de efectividad con los datos de prueba"
      ],
      "metadata": {
        "id": "1FtzjHPfFc7N"
      }
    },
    {
      "cell_type": "code",
      "source": [
        "pred_prueba = predictOneVsAll(all_theta, X_prueb)\n",
        "print('Precision del conjuto de entrenamiento: {:.2f}%'.format(np.mean(pred_prueba == y_prueb) * 100))\n",
        "print(\"------------------------------------------------------------------------\")\n",
        "print(\"Datos comparados:\")\n",
        "print(pred_prueba[:100])\n",
        "print(y_prueb[:100])"
      ],
      "metadata": {
        "colab": {
          "base_uri": "https://localhost:8080/"
        },
        "id": "RRCMNJI0FbfF",
        "outputId": "72bef33d-6c9a-41df-e132-1dc3ee7f4cf3"
      },
      "execution_count": 110,
      "outputs": [
        {
          "output_type": "stream",
          "name": "stdout",
          "text": [
            "Precision del conjuto de entrenamiento: 76.65%\n",
            "------------------------------------------------------------------------\n",
            "Datos comparados:\n",
            "[3 3 3 3 3 3 3 3 3 3 3 3 3 3 3 3 3 3 3 3 3 3 3 3 3 3 3 3 3 3 3 3 3 3 3 3 3\n",
            " 3 3 3 3 3 3 3 3 3 3 3 3 3 3 3 3 3 3 3 3 3 3 3 3 3 3 3 3 3 3 3 3 3 3 3 3 3\n",
            " 3 3 4 4 4 4 4 4 4 4 4 4 4 4 4 4 4 4 3 3 3 3 3 3 3 3]\n",
            "32000    4.0\n",
            "32001    4.0\n",
            "32002    4.0\n",
            "32003    4.0\n",
            "32004    4.0\n",
            "        ... \n",
            "32095    3.0\n",
            "32096    3.0\n",
            "32097    3.0\n",
            "32098    3.0\n",
            "32099    3.0\n",
            "Name: overall_rating, Length: 100, dtype: float64\n"
          ]
        }
      ]
    }
  ]
}